{
  "nbformat": 4,
  "nbformat_minor": 0,
  "metadata": {
    "colab": {
      "provenance": [],
      "mount_file_id": "14KEu2EGwdnxJYj6Jk2UT3SwYtyZ0jOLn",
      "authorship_tag": "ABX9TyM11Up0KIXreyxlepxYoBV2",
      "include_colab_link": true
    },
    "kernelspec": {
      "name": "python3",
      "display_name": "Python 3"
    },
    "language_info": {
      "name": "python"
    }
  },
  "cells": [
    {
      "cell_type": "markdown",
      "metadata": {
        "id": "view-in-github",
        "colab_type": "text"
      },
      "source": [
        "<a href=\"https://colab.research.google.com/github/Geethussanthosh/Central_tendency/blob/main/Central_tendency.ipynb\" target=\"_parent\"><img src=\"https://colab.research.google.com/assets/colab-badge.svg\" alt=\"Open In Colab\"/></a>"
      ]
    },
    {
      "cell_type": "code",
      "execution_count": 1,
      "metadata": {
        "id": "KN2QzixhPj6y"
      },
      "outputs": [],
      "source": [
        "import pandas as pd\n"
      ]
    },
    {
      "cell_type": "code",
      "source": [
        "path=\"/content/drive/MyDrive/Data Set/SOCR-HeightWeight.csv\"\n",
        "df=pd.read_csv(path)\n",
        "print(f'The median of height is {df[\"Height(Inches)\"].median()}')"
      ],
      "metadata": {
        "colab": {
          "base_uri": "https://localhost:8080/"
        },
        "id": "vzN9n_-RPspe",
        "outputId": "f84113ed-a96a-407c-e023-4374bf3efc7e"
      },
      "execution_count": 25,
      "outputs": [
        {
          "output_type": "stream",
          "name": "stdout",
          "text": [
            "The median of height is 67.9957\n"
          ]
        }
      ]
    },
    {
      "cell_type": "code",
      "source": [
        "path=\"/content/drive/MyDrive/Data Set/SOCR-HeightWeight.csv\"\n",
        "df=pd.read_csv(path)\n",
        "print(f'The mean of height is {df[\"Height(Inches)\"].mean()}')\n"
      ],
      "metadata": {
        "colab": {
          "base_uri": "https://localhost:8080/"
        },
        "id": "xOTqBA5BT8Ax",
        "outputId": "beeb800f-e751-4f9a-a364-020454a5798e"
      },
      "execution_count": 26,
      "outputs": [
        {
          "output_type": "stream",
          "name": "stdout",
          "text": [
            "The mean of height is 67.99311359679999\n"
          ]
        }
      ]
    },
    {
      "cell_type": "code",
      "source": [
        "path=\"/content/drive/MyDrive/Data Set/SOCR-HeightWeight.csv\"\n",
        "df=pd.read_csv(path)\n",
        "print(f'The mode of height is {df[\"Height(Inches)\"].mode()}')"
      ],
      "metadata": {
        "colab": {
          "base_uri": "https://localhost:8080/"
        },
        "id": "EEDiY70wUNFs",
        "outputId": "fc2920fc-0166-41ef-cc23-c0ec0cd74749"
      },
      "execution_count": 27,
      "outputs": [
        {
          "output_type": "stream",
          "name": "stdout",
          "text": [
            "The mode of height is 0     65.65796\n",
            "1     67.34629\n",
            "2     67.41672\n",
            "3     67.94061\n",
            "4     67.97769\n",
            "5     67.98509\n",
            "6     68.30287\n",
            "7     68.92380\n",
            "8     68.93456\n",
            "9     68.97830\n",
            "10    70.04724\n",
            "Name: Height(Inches), dtype: float64\n"
          ]
        }
      ]
    },
    {
      "cell_type": "code",
      "source": [
        "path=\"/content/drive/MyDrive/Data Set/SOCR-HeightWeight.csv\"\n",
        "df=pd.read_csv(path)\n",
        "print(f'The mean of weight is {df[\"Weight(Pounds)\"].mean()}')"
      ],
      "metadata": {
        "colab": {
          "base_uri": "https://localhost:8080/"
        },
        "id": "FhsvWKakUwmM",
        "outputId": "84c2e2bf-1222-4a27-fcc1-3ac5d839be2e"
      },
      "execution_count": 15,
      "outputs": [
        {
          "output_type": "stream",
          "name": "stdout",
          "text": [
            "The mean of weight is 127.07942116080001\n"
          ]
        }
      ]
    },
    {
      "cell_type": "code",
      "source": [
        "path=\"/content/drive/MyDrive/Data Set/SOCR-HeightWeight.csv\"\n",
        "df=pd.read_csv(path)\n",
        "print(f'The median of weight is {df[\"Weight(Pounds)\"].median()}')"
      ],
      "metadata": {
        "colab": {
          "base_uri": "https://localhost:8080/"
        },
        "id": "Ml0Ukn9xU9la",
        "outputId": "38296f1d-01e2-48b5-b929-f35b78a1ee70"
      },
      "execution_count": 16,
      "outputs": [
        {
          "output_type": "stream",
          "name": "stdout",
          "text": [
            "The median of weight is 127.15775\n"
          ]
        }
      ]
    },
    {
      "cell_type": "code",
      "source": [
        "path=\"/content/drive/MyDrive/Data Set/SOCR-HeightWeight.csv\"\n",
        "df=pd.read_csv(path)\n",
        "print(f'The mode of weight is {df[\"Weight(Pounds)\"].mode()}')"
      ],
      "metadata": {
        "colab": {
          "base_uri": "https://localhost:8080/"
        },
        "id": "6kOOSKpoVDIE",
        "outputId": "015d2ea9-defa-456c-d426-80f6626a7441"
      },
      "execution_count": 24,
      "outputs": [
        {
          "output_type": "stream",
          "name": "stdout",
          "text": [
            "The mode of weight is 0    124.7975\n",
            "Name: Weight(Pounds), dtype: float64\n"
          ]
        }
      ]
    }
  ]
}